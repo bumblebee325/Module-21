{
  "cells": [
    {
      "cell_type": "markdown",
      "metadata": {
        "id": "view-in-github",
        "colab_type": "text"
      },
      "source": [
        "<a href=\"https://colab.research.google.com/github/bumblebee325/Module-21/blob/main/report_Model_Deep_Learning.ipynb\" target=\"_parent\"><img src=\"https://colab.research.google.com/assets/colab-badge.svg\" alt=\"Open In Colab\"/></a>"
      ]
    },
    {
      "cell_type": "markdown",
      "metadata": {
        "id": "ZNh5PMCevnkM"
      },
      "source": [
        "## Preprocessing"
      ]
    },
    {
      "cell_type": "markdown",
      "source": [
        "\n",
        "For this part of the assignment, you’ll write a report on the performance of the deep learning model you created for Alphabet Soup.\n",
        "\n",
        "The report should contain the following:\n",
        "\n",
        "Overview of the analysis: Explain the purpose of this analysis.\n",
        "\n",
        "Results: Using bulleted lists and images to support your answers, address the following questions:\n",
        "\n",
        "Data Preprocessing\n",
        "\n",
        "What variable(s) are the target(s) for your model?\n",
        "The target variable is the 'IS_SUCCESSFUL' column from application_df\n",
        "What variable(s) are the features for your model?\n",
        "The feature variables are every other column from application_df --> this was defined by dropping the 'IS_SUCCESSFUL' column from the original dataframe\n",
        "What variable(s) should be removed from the input data because they are neither targets nor features?\n",
        "Both 'EIN' and 'NAME' columns were dropped/removed, because they were neither targets nor features for the dataset.\n",
        "Compiling, Training, and Evaluating the Model\n",
        "\n",
        "How many neurons, layers, and activation functions did you select for your neural network model, and why?\n",
        "In the first attempt, i used 8 hidden_nodes_layer1 and 5 hidden_nodes_layer2 -- these were just random guesses from which to iterate upon in the second try.\n",
        "Were you able to achieve the target model performance?\n",
        "I was not able to achieve the 75% model accuracy target\n",
        "What steps did you take in your attempts to increase model performance?\n",
        "I added more layers, removed more columns, added additional hidden nodes, and switched up the activation functions associated with each layer in an attempt to achieve higher model accuracy.\n",
        "Summary: Summarize the overall results of the deep learning model. Include a recommendation for how a different model could solve this classification problem, and then explain your recommendation.\n",
        "\n",
        "Overall, the deep learning model was around 73% accurate in predicting the classification problem. Using a model with greater correlation between input and output would likely result in higher prediction accuracy. This could be achieved by doing additional data cleanup up front, as well as by using a model with different activation functions and iterating until higher accuracy is reached.\n",
        "\n",
        "\n",
        "\n",
        "\n",
        "\n",
        "\n",
        "\n",
        "\n",
        "\n",
        "\n",
        "\n",
        "\n",
        "\n",
        "\n",
        "\n",
        "\n",
        "\n",
        "\n",
        "\n",
        "\n",
        "\n",
        "\n",
        "\n",
        "\n",
        "\n",
        "\n",
        "\n",
        "\n",
        "\n",
        "\n",
        "\n",
        "\n",
        "\n",
        "\n",
        "\n",
        "\n",
        "\n",
        "\n",
        "\n",
        "\n",
        "\n",
        "\n",
        "\n",
        "\n",
        "\n"
      ],
      "metadata": {
        "id": "2VxAuuFfPxP8"
      }
    }
  ],
  "metadata": {
    "kernelspec": {
      "display_name": "Python 3 (ipykernel)",
      "language": "python",
      "name": "python3"
    },
    "language_info": {
      "codemirror_mode": {
        "name": "ipython",
        "version": 3
      },
      "file_extension": ".py",
      "mimetype": "text/x-python",
      "name": "python",
      "nbconvert_exporter": "python",
      "pygments_lexer": "ipython3",
      "version": "3.12.3"
    },
    "vscode": {
      "interpreter": {
        "hash": "31f2aee4e71d21fbe5cf8b01ff0e069b9275f58929596ceb00d14d90e3e16cd6"
      }
    },
    "colab": {
      "provenance": [],
      "include_colab_link": true
    }
  },
  "nbformat": 4,
  "nbformat_minor": 0
}